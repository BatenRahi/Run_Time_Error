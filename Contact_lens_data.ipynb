{
  "nbformat": 4,
  "nbformat_minor": 0,
  "metadata": {
    "colab": {
      "provenance": [],
      "authorship_tag": "ABX9TyNwH3V8MmFRudSd+3U3ONeI",
      "include_colab_link": true
    },
    "kernelspec": {
      "name": "python3",
      "display_name": "Python 3"
    },
    "language_info": {
      "name": "python"
    }
  },
  "cells": [
    {
      "cell_type": "markdown",
      "metadata": {
        "id": "view-in-github",
        "colab_type": "text"
      },
      "source": [
        "<a href=\"https://colab.research.google.com/github/BatenRahi/Run_Time_Error/blob/main/Contact_lens_data.ipynb\" target=\"_parent\"><img src=\"https://colab.research.google.com/assets/colab-badge.svg\" alt=\"Open In Colab\"/></a>"
      ]
    },
    {
      "cell_type": "code",
      "source": [
        "import pandas as pd\n",
        "from sklearn.neighbors import KNeighborsClassifier\n",
        "from sklearn.model_selection import train_test_split"
      ],
      "metadata": {
        "id": "9S3I8Yx5rcRm"
      },
      "execution_count": 134,
      "outputs": []
    },
    {
      "cell_type": "code",
      "source": [
        "url = 'http://archive.ics.uci.edu/ml/machine-learning-databases/lenses/lenses.data'\n",
        "lenses = pd.read_csv(url, header=None, delim_whitespace=True, names=['age', 'prescript', 'astigmatic', 'tear_rate', 'class'])\n",
        "     \n"
      ],
      "metadata": {
        "id": "RYIu3Da9sru9"
      },
      "execution_count": 135,
      "outputs": []
    },
    {
      "cell_type": "code",
      "source": [
        "lenses"
      ],
      "metadata": {
        "colab": {
          "base_uri": "https://localhost:8080/",
          "height": 801
        },
        "id": "OGvtuHWTsx3d",
        "outputId": "79b1e894-b568-4a34-8e56-536f9aff7bb5"
      },
      "execution_count": 136,
      "outputs": [
        {
          "output_type": "execute_result",
          "data": {
            "text/plain": [
              "    age  prescript  astigmatic  tear_rate  class\n",
              "1     1          1           1          1      3\n",
              "2     1          1           1          2      2\n",
              "3     1          1           2          1      3\n",
              "4     1          1           2          2      1\n",
              "5     1          2           1          1      3\n",
              "6     1          2           1          2      2\n",
              "7     1          2           2          1      3\n",
              "8     1          2           2          2      1\n",
              "9     2          1           1          1      3\n",
              "10    2          1           1          2      2\n",
              "11    2          1           2          1      3\n",
              "12    2          1           2          2      1\n",
              "13    2          2           1          1      3\n",
              "14    2          2           1          2      2\n",
              "15    2          2           2          1      3\n",
              "16    2          2           2          2      3\n",
              "17    3          1           1          1      3\n",
              "18    3          1           1          2      3\n",
              "19    3          1           2          1      3\n",
              "20    3          1           2          2      1\n",
              "21    3          2           1          1      3\n",
              "22    3          2           1          2      2\n",
              "23    3          2           2          1      3\n",
              "24    3          2           2          2      3"
            ],
            "text/html": [
              "\n",
              "  <div id=\"df-8fea73c7-6ea2-4f66-ae67-e57b837a29f1\">\n",
              "    <div class=\"colab-df-container\">\n",
              "      <div>\n",
              "<style scoped>\n",
              "    .dataframe tbody tr th:only-of-type {\n",
              "        vertical-align: middle;\n",
              "    }\n",
              "\n",
              "    .dataframe tbody tr th {\n",
              "        vertical-align: top;\n",
              "    }\n",
              "\n",
              "    .dataframe thead th {\n",
              "        text-align: right;\n",
              "    }\n",
              "</style>\n",
              "<table border=\"1\" class=\"dataframe\">\n",
              "  <thead>\n",
              "    <tr style=\"text-align: right;\">\n",
              "      <th></th>\n",
              "      <th>age</th>\n",
              "      <th>prescript</th>\n",
              "      <th>astigmatic</th>\n",
              "      <th>tear_rate</th>\n",
              "      <th>class</th>\n",
              "    </tr>\n",
              "  </thead>\n",
              "  <tbody>\n",
              "    <tr>\n",
              "      <th>1</th>\n",
              "      <td>1</td>\n",
              "      <td>1</td>\n",
              "      <td>1</td>\n",
              "      <td>1</td>\n",
              "      <td>3</td>\n",
              "    </tr>\n",
              "    <tr>\n",
              "      <th>2</th>\n",
              "      <td>1</td>\n",
              "      <td>1</td>\n",
              "      <td>1</td>\n",
              "      <td>2</td>\n",
              "      <td>2</td>\n",
              "    </tr>\n",
              "    <tr>\n",
              "      <th>3</th>\n",
              "      <td>1</td>\n",
              "      <td>1</td>\n",
              "      <td>2</td>\n",
              "      <td>1</td>\n",
              "      <td>3</td>\n",
              "    </tr>\n",
              "    <tr>\n",
              "      <th>4</th>\n",
              "      <td>1</td>\n",
              "      <td>1</td>\n",
              "      <td>2</td>\n",
              "      <td>2</td>\n",
              "      <td>1</td>\n",
              "    </tr>\n",
              "    <tr>\n",
              "      <th>5</th>\n",
              "      <td>1</td>\n",
              "      <td>2</td>\n",
              "      <td>1</td>\n",
              "      <td>1</td>\n",
              "      <td>3</td>\n",
              "    </tr>\n",
              "    <tr>\n",
              "      <th>6</th>\n",
              "      <td>1</td>\n",
              "      <td>2</td>\n",
              "      <td>1</td>\n",
              "      <td>2</td>\n",
              "      <td>2</td>\n",
              "    </tr>\n",
              "    <tr>\n",
              "      <th>7</th>\n",
              "      <td>1</td>\n",
              "      <td>2</td>\n",
              "      <td>2</td>\n",
              "      <td>1</td>\n",
              "      <td>3</td>\n",
              "    </tr>\n",
              "    <tr>\n",
              "      <th>8</th>\n",
              "      <td>1</td>\n",
              "      <td>2</td>\n",
              "      <td>2</td>\n",
              "      <td>2</td>\n",
              "      <td>1</td>\n",
              "    </tr>\n",
              "    <tr>\n",
              "      <th>9</th>\n",
              "      <td>2</td>\n",
              "      <td>1</td>\n",
              "      <td>1</td>\n",
              "      <td>1</td>\n",
              "      <td>3</td>\n",
              "    </tr>\n",
              "    <tr>\n",
              "      <th>10</th>\n",
              "      <td>2</td>\n",
              "      <td>1</td>\n",
              "      <td>1</td>\n",
              "      <td>2</td>\n",
              "      <td>2</td>\n",
              "    </tr>\n",
              "    <tr>\n",
              "      <th>11</th>\n",
              "      <td>2</td>\n",
              "      <td>1</td>\n",
              "      <td>2</td>\n",
              "      <td>1</td>\n",
              "      <td>3</td>\n",
              "    </tr>\n",
              "    <tr>\n",
              "      <th>12</th>\n",
              "      <td>2</td>\n",
              "      <td>1</td>\n",
              "      <td>2</td>\n",
              "      <td>2</td>\n",
              "      <td>1</td>\n",
              "    </tr>\n",
              "    <tr>\n",
              "      <th>13</th>\n",
              "      <td>2</td>\n",
              "      <td>2</td>\n",
              "      <td>1</td>\n",
              "      <td>1</td>\n",
              "      <td>3</td>\n",
              "    </tr>\n",
              "    <tr>\n",
              "      <th>14</th>\n",
              "      <td>2</td>\n",
              "      <td>2</td>\n",
              "      <td>1</td>\n",
              "      <td>2</td>\n",
              "      <td>2</td>\n",
              "    </tr>\n",
              "    <tr>\n",
              "      <th>15</th>\n",
              "      <td>2</td>\n",
              "      <td>2</td>\n",
              "      <td>2</td>\n",
              "      <td>1</td>\n",
              "      <td>3</td>\n",
              "    </tr>\n",
              "    <tr>\n",
              "      <th>16</th>\n",
              "      <td>2</td>\n",
              "      <td>2</td>\n",
              "      <td>2</td>\n",
              "      <td>2</td>\n",
              "      <td>3</td>\n",
              "    </tr>\n",
              "    <tr>\n",
              "      <th>17</th>\n",
              "      <td>3</td>\n",
              "      <td>1</td>\n",
              "      <td>1</td>\n",
              "      <td>1</td>\n",
              "      <td>3</td>\n",
              "    </tr>\n",
              "    <tr>\n",
              "      <th>18</th>\n",
              "      <td>3</td>\n",
              "      <td>1</td>\n",
              "      <td>1</td>\n",
              "      <td>2</td>\n",
              "      <td>3</td>\n",
              "    </tr>\n",
              "    <tr>\n",
              "      <th>19</th>\n",
              "      <td>3</td>\n",
              "      <td>1</td>\n",
              "      <td>2</td>\n",
              "      <td>1</td>\n",
              "      <td>3</td>\n",
              "    </tr>\n",
              "    <tr>\n",
              "      <th>20</th>\n",
              "      <td>3</td>\n",
              "      <td>1</td>\n",
              "      <td>2</td>\n",
              "      <td>2</td>\n",
              "      <td>1</td>\n",
              "    </tr>\n",
              "    <tr>\n",
              "      <th>21</th>\n",
              "      <td>3</td>\n",
              "      <td>2</td>\n",
              "      <td>1</td>\n",
              "      <td>1</td>\n",
              "      <td>3</td>\n",
              "    </tr>\n",
              "    <tr>\n",
              "      <th>22</th>\n",
              "      <td>3</td>\n",
              "      <td>2</td>\n",
              "      <td>1</td>\n",
              "      <td>2</td>\n",
              "      <td>2</td>\n",
              "    </tr>\n",
              "    <tr>\n",
              "      <th>23</th>\n",
              "      <td>3</td>\n",
              "      <td>2</td>\n",
              "      <td>2</td>\n",
              "      <td>1</td>\n",
              "      <td>3</td>\n",
              "    </tr>\n",
              "    <tr>\n",
              "      <th>24</th>\n",
              "      <td>3</td>\n",
              "      <td>2</td>\n",
              "      <td>2</td>\n",
              "      <td>2</td>\n",
              "      <td>3</td>\n",
              "    </tr>\n",
              "  </tbody>\n",
              "</table>\n",
              "</div>\n",
              "      <button class=\"colab-df-convert\" onclick=\"convertToInteractive('df-8fea73c7-6ea2-4f66-ae67-e57b837a29f1')\"\n",
              "              title=\"Convert this dataframe to an interactive table.\"\n",
              "              style=\"display:none;\">\n",
              "        \n",
              "  <svg xmlns=\"http://www.w3.org/2000/svg\" height=\"24px\"viewBox=\"0 0 24 24\"\n",
              "       width=\"24px\">\n",
              "    <path d=\"M0 0h24v24H0V0z\" fill=\"none\"/>\n",
              "    <path d=\"M18.56 5.44l.94 2.06.94-2.06 2.06-.94-2.06-.94-.94-2.06-.94 2.06-2.06.94zm-11 1L8.5 8.5l.94-2.06 2.06-.94-2.06-.94L8.5 2.5l-.94 2.06-2.06.94zm10 10l.94 2.06.94-2.06 2.06-.94-2.06-.94-.94-2.06-.94 2.06-2.06.94z\"/><path d=\"M17.41 7.96l-1.37-1.37c-.4-.4-.92-.59-1.43-.59-.52 0-1.04.2-1.43.59L10.3 9.45l-7.72 7.72c-.78.78-.78 2.05 0 2.83L4 21.41c.39.39.9.59 1.41.59.51 0 1.02-.2 1.41-.59l7.78-7.78 2.81-2.81c.8-.78.8-2.07 0-2.86zM5.41 20L4 18.59l7.72-7.72 1.47 1.35L5.41 20z\"/>\n",
              "  </svg>\n",
              "      </button>\n",
              "      \n",
              "  <style>\n",
              "    .colab-df-container {\n",
              "      display:flex;\n",
              "      flex-wrap:wrap;\n",
              "      gap: 12px;\n",
              "    }\n",
              "\n",
              "    .colab-df-convert {\n",
              "      background-color: #E8F0FE;\n",
              "      border: none;\n",
              "      border-radius: 50%;\n",
              "      cursor: pointer;\n",
              "      display: none;\n",
              "      fill: #1967D2;\n",
              "      height: 32px;\n",
              "      padding: 0 0 0 0;\n",
              "      width: 32px;\n",
              "    }\n",
              "\n",
              "    .colab-df-convert:hover {\n",
              "      background-color: #E2EBFA;\n",
              "      box-shadow: 0px 1px 2px rgba(60, 64, 67, 0.3), 0px 1px 3px 1px rgba(60, 64, 67, 0.15);\n",
              "      fill: #174EA6;\n",
              "    }\n",
              "\n",
              "    [theme=dark] .colab-df-convert {\n",
              "      background-color: #3B4455;\n",
              "      fill: #D2E3FC;\n",
              "    }\n",
              "\n",
              "    [theme=dark] .colab-df-convert:hover {\n",
              "      background-color: #434B5C;\n",
              "      box-shadow: 0px 1px 3px 1px rgba(0, 0, 0, 0.15);\n",
              "      filter: drop-shadow(0px 1px 2px rgba(0, 0, 0, 0.3));\n",
              "      fill: #FFFFFF;\n",
              "    }\n",
              "  </style>\n",
              "\n",
              "      <script>\n",
              "        const buttonEl =\n",
              "          document.querySelector('#df-8fea73c7-6ea2-4f66-ae67-e57b837a29f1 button.colab-df-convert');\n",
              "        buttonEl.style.display =\n",
              "          google.colab.kernel.accessAllowed ? 'block' : 'none';\n",
              "\n",
              "        async function convertToInteractive(key) {\n",
              "          const element = document.querySelector('#df-8fea73c7-6ea2-4f66-ae67-e57b837a29f1');\n",
              "          const dataTable =\n",
              "            await google.colab.kernel.invokeFunction('convertToInteractive',\n",
              "                                                     [key], {});\n",
              "          if (!dataTable) return;\n",
              "\n",
              "          const docLinkHtml = 'Like what you see? Visit the ' +\n",
              "            '<a target=\"_blank\" href=https://colab.research.google.com/notebooks/data_table.ipynb>data table notebook</a>'\n",
              "            + ' to learn more about interactive tables.';\n",
              "          element.innerHTML = '';\n",
              "          dataTable['output_type'] = 'display_data';\n",
              "          await google.colab.output.renderOutput(dataTable, element);\n",
              "          const docLink = document.createElement('div');\n",
              "          docLink.innerHTML = docLinkHtml;\n",
              "          element.appendChild(docLink);\n",
              "        }\n",
              "      </script>\n",
              "    </div>\n",
              "  </div>\n",
              "  "
            ]
          },
          "metadata": {},
          "execution_count": 136
        }
      ]
    },
    {
      "cell_type": "markdown",
      "source": [
        "**KNN**"
      ],
      "metadata": {
        "id": "ujbfG9_FtYE9"
      }
    },
    {
      "cell_type": "code",
      "source": [
        "# now separating features and target variable\n",
        "X = lenses.drop('class', axis=1)\n",
        "y = lenses['class']\n",
        "     "
      ],
      "metadata": {
        "id": "JsgUXetNs6rd"
      },
      "execution_count": 137,
      "outputs": []
    },
    {
      "cell_type": "code",
      "source": [
        "# split the data\n",
        "X_train, X_test, y_train, y_test = train_test_split(X, y, test_size=0.2, random_state=1)\n",
        "     "
      ],
      "metadata": {
        "id": "KNXZspB7tBWF"
      },
      "execution_count": 138,
      "outputs": []
    },
    {
      "cell_type": "code",
      "source": [
        "from sklearn.metrics import accuracy_score\n",
        "scores = []"
      ],
      "metadata": {
        "id": "IiKeCia5tIVN"
      },
      "execution_count": 139,
      "outputs": []
    },
    {
      "cell_type": "code",
      "source": [
        "for k in range(1, 5):\n",
        "    knn = KNeighborsClassifier(n_neighbors=k)\n",
        "    knn.fit(X_train, y_train)\n",
        "    y_pred = knn.predict(X_test)\n",
        "    acc_score = accuracy_score(y_test, y_pred)\n",
        "    scores.append(acc_score)\n",
        "    print(f\"Accuracy score for k={k}: {acc_score:.2f}\")\n"
      ],
      "metadata": {
        "colab": {
          "base_uri": "https://localhost:8080/"
        },
        "id": "jyWOP67JtbrF",
        "outputId": "be0024be-dc28-408f-df08-8a1c0a1df06e"
      },
      "execution_count": 140,
      "outputs": [
        {
          "output_type": "stream",
          "name": "stdout",
          "text": [
            "Accuracy score for k=1: 0.60\n",
            "Accuracy score for k=2: 0.60\n",
            "Accuracy score for k=3: 1.00\n",
            "Accuracy score for k=4: 1.00\n"
          ]
        }
      ]
    },
    {
      "cell_type": "markdown",
      "source": [
        "**Decision Tree**"
      ],
      "metadata": {
        "id": "ZGNuy60pt0wV"
      }
    },
    {
      "cell_type": "code",
      "source": [
        "from sklearn.tree import DecisionTreeClassifier\n",
        "from sklearn.metrics import accuracy_score\n",
        "from sklearn.model_selection import train_test_split\n"
      ],
      "metadata": {
        "id": "SdtSjqvvx0W7"
      },
      "execution_count": 141,
      "outputs": []
    },
    {
      "cell_type": "code",
      "source": [
        "# Now spliting the data into features and target variable\n",
        "X = lenses.drop('class', axis=1)\n",
        "y = lenses['class']"
      ],
      "metadata": {
        "id": "-AMBYo02t2n7"
      },
      "execution_count": 142,
      "outputs": []
    },
    {
      "cell_type": "code",
      "source": [
        "X_train, X_test, y_train, y_test = train_test_split(X, y, test_size=0.2, random_state=42)"
      ],
      "metadata": {
        "id": "gPig_DUht93c"
      },
      "execution_count": 143,
      "outputs": []
    },
    {
      "cell_type": "code",
      "source": [
        "dt = DecisionTreeClassifier(random_state=42)\n",
        "dt.fit(X_train, y_train)"
      ],
      "metadata": {
        "colab": {
          "base_uri": "https://localhost:8080/"
        },
        "id": "u97SfBz9v0-c",
        "outputId": "acc5c027-cfde-4702-b251-7b220c4b91bf"
      },
      "execution_count": 144,
      "outputs": [
        {
          "output_type": "execute_result",
          "data": {
            "text/plain": [
              "DecisionTreeClassifier(random_state=42)"
            ]
          },
          "metadata": {},
          "execution_count": 144
        }
      ]
    },
    {
      "cell_type": "code",
      "source": [
        "y_pred = dt.predict(X_test)\n",
        "\n",
        "# Calculate the accuracy score\n",
        "accuracy = accuracy_score(y_test, y_pred)\n",
        "print(f\"Accuracy: {accuracy}\")\n"
      ],
      "metadata": {
        "colab": {
          "base_uri": "https://localhost:8080/"
        },
        "id": "PX4JKt0muB0A",
        "outputId": "78f5d523-961f-4223-f682-8b1896e47a92"
      },
      "execution_count": 145,
      "outputs": [
        {
          "output_type": "stream",
          "name": "stdout",
          "text": [
            "Accuracy: 1.0\n"
          ]
        }
      ]
    },
    {
      "cell_type": "markdown",
      "source": [
        "**Neural Network**"
      ],
      "metadata": {
        "id": "TIeoLTCkyGpM"
      }
    },
    {
      "cell_type": "code",
      "source": [
        "import pandas as pd\n",
        "import tensorflow as tf\n",
        "from sklearn.metrics import accuracy_score\n",
        "from sklearn.model_selection import train_test_split\n",
        "     "
      ],
      "metadata": {
        "id": "fZ6GmGGeyImy"
      },
      "execution_count": 146,
      "outputs": []
    },
    {
      "cell_type": "code",
      "source": [
        "url = 'http://archive.ics.uci.edu/ml/machine-learning-databases/lenses/lenses.data'\n",
        "df = pd.read_csv(url, sep='\\s+', header=None, names=['age', 'prescription', 'astigmatic', 'tear_rate', 'class'])"
      ],
      "metadata": {
        "id": "6DiOVw0kyZtL"
      },
      "execution_count": 149,
      "outputs": []
    },
    {
      "cell_type": "code",
      "source": [
        "X = df.drop('class', axis=1)\n",
        "y = pd.get_dummies(df['class'])"
      ],
      "metadata": {
        "id": "7v6swWAcyLxk"
      },
      "execution_count": 150,
      "outputs": []
    },
    {
      "cell_type": "code",
      "source": [
        "X_train, X_test, y_train, y_test = train_test_split(X, y, test_size=0.2, random_state=42)"
      ],
      "metadata": {
        "id": "Ll01hms_ydGC"
      },
      "execution_count": 151,
      "outputs": []
    },
    {
      "cell_type": "code",
      "source": [
        "model = tf.keras.models.Sequential([\n",
        "tf.keras.layers.Dense(16, input_dim=4, activation='relu'),\n",
        "tf.keras.layers.Dense(3, activation='softmax')\n",
        "])\n",
        "     "
      ],
      "metadata": {
        "id": "-kwZUWhUyga8"
      },
      "execution_count": 152,
      "outputs": []
    },
    {
      "cell_type": "code",
      "source": [
        "model.compile(loss='categorical_crossentropy', optimizer='adam', metrics=['accuracy'])\n",
        "     "
      ],
      "metadata": {
        "id": "Js4Tgb-zyiY7"
      },
      "execution_count": 153,
      "outputs": []
    },
    {
      "cell_type": "code",
      "source": [
        "history=model.fit(X_train, y_train, epochs=100, batch_size=16,validation_split=0.2)\n",
        "     "
      ],
      "metadata": {
        "colab": {
          "base_uri": "https://localhost:8080/"
        },
        "id": "twuS4fToykMI",
        "outputId": "b9725c4c-c4fb-46c8-978e-436f966fefcb"
      },
      "execution_count": 154,
      "outputs": [
        {
          "output_type": "stream",
          "name": "stdout",
          "text": [
            "Epoch 1/100\n",
            "1/1 [==============================] - 1s 1s/step - loss: 1.0190 - accuracy: 0.4667 - val_loss: 1.2821 - val_accuracy: 0.5000\n",
            "Epoch 2/100\n",
            "1/1 [==============================] - 0s 77ms/step - loss: 1.0153 - accuracy: 0.4667 - val_loss: 1.2832 - val_accuracy: 0.5000\n",
            "Epoch 3/100\n",
            "1/1 [==============================] - 0s 84ms/step - loss: 1.0116 - accuracy: 0.4667 - val_loss: 1.2845 - val_accuracy: 0.5000\n",
            "Epoch 4/100\n",
            "1/1 [==============================] - 0s 105ms/step - loss: 1.0081 - accuracy: 0.4667 - val_loss: 1.2858 - val_accuracy: 0.5000\n",
            "Epoch 5/100\n",
            "1/1 [==============================] - 0s 74ms/step - loss: 1.0047 - accuracy: 0.4667 - val_loss: 1.2873 - val_accuracy: 0.5000\n",
            "Epoch 6/100\n",
            "1/1 [==============================] - 0s 74ms/step - loss: 1.0014 - accuracy: 0.4667 - val_loss: 1.2890 - val_accuracy: 0.5000\n",
            "Epoch 7/100\n",
            "1/1 [==============================] - 0s 104ms/step - loss: 0.9981 - accuracy: 0.4667 - val_loss: 1.2910 - val_accuracy: 0.5000\n",
            "Epoch 8/100\n",
            "1/1 [==============================] - 0s 78ms/step - loss: 0.9948 - accuracy: 0.4667 - val_loss: 1.2934 - val_accuracy: 0.5000\n",
            "Epoch 9/100\n",
            "1/1 [==============================] - 0s 92ms/step - loss: 0.9916 - accuracy: 0.4667 - val_loss: 1.2959 - val_accuracy: 0.5000\n",
            "Epoch 10/100\n",
            "1/1 [==============================] - 0s 76ms/step - loss: 0.9883 - accuracy: 0.4667 - val_loss: 1.2983 - val_accuracy: 0.5000\n",
            "Epoch 11/100\n",
            "1/1 [==============================] - 0s 44ms/step - loss: 0.9852 - accuracy: 0.4667 - val_loss: 1.3007 - val_accuracy: 0.5000\n",
            "Epoch 12/100\n",
            "1/1 [==============================] - 0s 41ms/step - loss: 0.9820 - accuracy: 0.4667 - val_loss: 1.3031 - val_accuracy: 0.5000\n",
            "Epoch 13/100\n",
            "1/1 [==============================] - 0s 40ms/step - loss: 0.9789 - accuracy: 0.4667 - val_loss: 1.3053 - val_accuracy: 0.5000\n",
            "Epoch 14/100\n",
            "1/1 [==============================] - 0s 38ms/step - loss: 0.9759 - accuracy: 0.4667 - val_loss: 1.3074 - val_accuracy: 0.5000\n",
            "Epoch 15/100\n",
            "1/1 [==============================] - 0s 38ms/step - loss: 0.9729 - accuracy: 0.4667 - val_loss: 1.3093 - val_accuracy: 0.5000\n",
            "Epoch 16/100\n",
            "1/1 [==============================] - 0s 44ms/step - loss: 0.9696 - accuracy: 0.5333 - val_loss: 1.3111 - val_accuracy: 0.5000\n",
            "Epoch 17/100\n",
            "1/1 [==============================] - 0s 38ms/step - loss: 0.9664 - accuracy: 0.5333 - val_loss: 1.3127 - val_accuracy: 0.5000\n",
            "Epoch 18/100\n",
            "1/1 [==============================] - 0s 38ms/step - loss: 0.9632 - accuracy: 0.5333 - val_loss: 1.3142 - val_accuracy: 0.5000\n",
            "Epoch 19/100\n",
            "1/1 [==============================] - 0s 39ms/step - loss: 0.9600 - accuracy: 0.5333 - val_loss: 1.3156 - val_accuracy: 0.5000\n",
            "Epoch 20/100\n",
            "1/1 [==============================] - 0s 37ms/step - loss: 0.9568 - accuracy: 0.5333 - val_loss: 1.3169 - val_accuracy: 0.5000\n",
            "Epoch 21/100\n",
            "1/1 [==============================] - 0s 45ms/step - loss: 0.9537 - accuracy: 0.5333 - val_loss: 1.3181 - val_accuracy: 0.5000\n",
            "Epoch 22/100\n",
            "1/1 [==============================] - 0s 37ms/step - loss: 0.9506 - accuracy: 0.5333 - val_loss: 1.3192 - val_accuracy: 0.5000\n",
            "Epoch 23/100\n",
            "1/1 [==============================] - 0s 60ms/step - loss: 0.9477 - accuracy: 0.5333 - val_loss: 1.3200 - val_accuracy: 0.5000\n",
            "Epoch 24/100\n",
            "1/1 [==============================] - 0s 43ms/step - loss: 0.9448 - accuracy: 0.5333 - val_loss: 1.3204 - val_accuracy: 0.5000\n",
            "Epoch 25/100\n",
            "1/1 [==============================] - 0s 58ms/step - loss: 0.9419 - accuracy: 0.5333 - val_loss: 1.3210 - val_accuracy: 0.5000\n",
            "Epoch 26/100\n",
            "1/1 [==============================] - 0s 39ms/step - loss: 0.9390 - accuracy: 0.5333 - val_loss: 1.3216 - val_accuracy: 0.5000\n",
            "Epoch 27/100\n",
            "1/1 [==============================] - 0s 39ms/step - loss: 0.9361 - accuracy: 0.5333 - val_loss: 1.3222 - val_accuracy: 0.5000\n",
            "Epoch 28/100\n",
            "1/1 [==============================] - 0s 38ms/step - loss: 0.9332 - accuracy: 0.5333 - val_loss: 1.3227 - val_accuracy: 0.5000\n",
            "Epoch 29/100\n",
            "1/1 [==============================] - 0s 40ms/step - loss: 0.9303 - accuracy: 0.5333 - val_loss: 1.3232 - val_accuracy: 0.5000\n",
            "Epoch 30/100\n",
            "1/1 [==============================] - 0s 40ms/step - loss: 0.9274 - accuracy: 0.5333 - val_loss: 1.3236 - val_accuracy: 0.5000\n",
            "Epoch 31/100\n",
            "1/1 [==============================] - 0s 38ms/step - loss: 0.9246 - accuracy: 0.5333 - val_loss: 1.3241 - val_accuracy: 0.5000\n",
            "Epoch 32/100\n",
            "1/1 [==============================] - 0s 42ms/step - loss: 0.9217 - accuracy: 0.5333 - val_loss: 1.3244 - val_accuracy: 0.5000\n",
            "Epoch 33/100\n",
            "1/1 [==============================] - 0s 58ms/step - loss: 0.9190 - accuracy: 0.5333 - val_loss: 1.3247 - val_accuracy: 0.5000\n",
            "Epoch 34/100\n",
            "1/1 [==============================] - 0s 39ms/step - loss: 0.9166 - accuracy: 0.5333 - val_loss: 1.3250 - val_accuracy: 0.5000\n",
            "Epoch 35/100\n",
            "1/1 [==============================] - 0s 38ms/step - loss: 0.9142 - accuracy: 0.5333 - val_loss: 1.3252 - val_accuracy: 0.5000\n",
            "Epoch 36/100\n",
            "1/1 [==============================] - 0s 47ms/step - loss: 0.9119 - accuracy: 0.5333 - val_loss: 1.3253 - val_accuracy: 0.5000\n",
            "Epoch 37/100\n",
            "1/1 [==============================] - 0s 42ms/step - loss: 0.9097 - accuracy: 0.5333 - val_loss: 1.3254 - val_accuracy: 0.5000\n",
            "Epoch 38/100\n",
            "1/1 [==============================] - 0s 38ms/step - loss: 0.9076 - accuracy: 0.5333 - val_loss: 1.3254 - val_accuracy: 0.5000\n",
            "Epoch 39/100\n",
            "1/1 [==============================] - 0s 42ms/step - loss: 0.9054 - accuracy: 0.5333 - val_loss: 1.3254 - val_accuracy: 0.5000\n",
            "Epoch 40/100\n",
            "1/1 [==============================] - 0s 37ms/step - loss: 0.9032 - accuracy: 0.5333 - val_loss: 1.3253 - val_accuracy: 0.5000\n",
            "Epoch 41/100\n",
            "1/1 [==============================] - 0s 40ms/step - loss: 0.9010 - accuracy: 0.5333 - val_loss: 1.3251 - val_accuracy: 0.5000\n",
            "Epoch 42/100\n",
            "1/1 [==============================] - 0s 42ms/step - loss: 0.8988 - accuracy: 0.5333 - val_loss: 1.3249 - val_accuracy: 0.5000\n",
            "Epoch 43/100\n",
            "1/1 [==============================] - 0s 39ms/step - loss: 0.8966 - accuracy: 0.5333 - val_loss: 1.3246 - val_accuracy: 0.5000\n",
            "Epoch 44/100\n",
            "1/1 [==============================] - 0s 40ms/step - loss: 0.8944 - accuracy: 0.5333 - val_loss: 1.3242 - val_accuracy: 0.5000\n",
            "Epoch 45/100\n",
            "1/1 [==============================] - 0s 43ms/step - loss: 0.8922 - accuracy: 0.5333 - val_loss: 1.3240 - val_accuracy: 0.5000\n",
            "Epoch 46/100\n",
            "1/1 [==============================] - 0s 45ms/step - loss: 0.8900 - accuracy: 0.5333 - val_loss: 1.3239 - val_accuracy: 0.5000\n",
            "Epoch 47/100\n",
            "1/1 [==============================] - 0s 49ms/step - loss: 0.8879 - accuracy: 0.5333 - val_loss: 1.3237 - val_accuracy: 0.5000\n",
            "Epoch 48/100\n",
            "1/1 [==============================] - 0s 44ms/step - loss: 0.8857 - accuracy: 0.5333 - val_loss: 1.3235 - val_accuracy: 0.5000\n",
            "Epoch 49/100\n",
            "1/1 [==============================] - 0s 41ms/step - loss: 0.8835 - accuracy: 0.5333 - val_loss: 1.3232 - val_accuracy: 0.5000\n",
            "Epoch 50/100\n",
            "1/1 [==============================] - 0s 49ms/step - loss: 0.8813 - accuracy: 0.5333 - val_loss: 1.3229 - val_accuracy: 0.5000\n",
            "Epoch 51/100\n",
            "1/1 [==============================] - 0s 43ms/step - loss: 0.8792 - accuracy: 0.5333 - val_loss: 1.3225 - val_accuracy: 0.5000\n",
            "Epoch 52/100\n",
            "1/1 [==============================] - 0s 39ms/step - loss: 0.8771 - accuracy: 0.5333 - val_loss: 1.3222 - val_accuracy: 0.5000\n",
            "Epoch 53/100\n",
            "1/1 [==============================] - 0s 41ms/step - loss: 0.8750 - accuracy: 0.5333 - val_loss: 1.3218 - val_accuracy: 0.5000\n",
            "Epoch 54/100\n",
            "1/1 [==============================] - 0s 41ms/step - loss: 0.8728 - accuracy: 0.5333 - val_loss: 1.3214 - val_accuracy: 0.5000\n",
            "Epoch 55/100\n",
            "1/1 [==============================] - 0s 39ms/step - loss: 0.8706 - accuracy: 0.5333 - val_loss: 1.3209 - val_accuracy: 0.5000\n",
            "Epoch 56/100\n",
            "1/1 [==============================] - 0s 48ms/step - loss: 0.8684 - accuracy: 0.5333 - val_loss: 1.3205 - val_accuracy: 0.5000\n",
            "Epoch 57/100\n",
            "1/1 [==============================] - 0s 39ms/step - loss: 0.8662 - accuracy: 0.5333 - val_loss: 1.3201 - val_accuracy: 0.5000\n",
            "Epoch 58/100\n",
            "1/1 [==============================] - 0s 38ms/step - loss: 0.8640 - accuracy: 0.5333 - val_loss: 1.3196 - val_accuracy: 0.5000\n",
            "Epoch 59/100\n",
            "1/1 [==============================] - 0s 44ms/step - loss: 0.8619 - accuracy: 0.5333 - val_loss: 1.3192 - val_accuracy: 0.5000\n",
            "Epoch 60/100\n",
            "1/1 [==============================] - 0s 38ms/step - loss: 0.8598 - accuracy: 0.5333 - val_loss: 1.3187 - val_accuracy: 0.5000\n",
            "Epoch 61/100\n",
            "1/1 [==============================] - 0s 39ms/step - loss: 0.8577 - accuracy: 0.5333 - val_loss: 1.3182 - val_accuracy: 0.5000\n",
            "Epoch 62/100\n",
            "1/1 [==============================] - 0s 40ms/step - loss: 0.8557 - accuracy: 0.5333 - val_loss: 1.3177 - val_accuracy: 0.5000\n",
            "Epoch 63/100\n",
            "1/1 [==============================] - 0s 41ms/step - loss: 0.8536 - accuracy: 0.5333 - val_loss: 1.3169 - val_accuracy: 0.5000\n",
            "Epoch 64/100\n",
            "1/1 [==============================] - 0s 42ms/step - loss: 0.8515 - accuracy: 0.5333 - val_loss: 1.3160 - val_accuracy: 0.5000\n",
            "Epoch 65/100\n",
            "1/1 [==============================] - 0s 41ms/step - loss: 0.8493 - accuracy: 0.5333 - val_loss: 1.3151 - val_accuracy: 0.5000\n",
            "Epoch 66/100\n",
            "1/1 [==============================] - 0s 38ms/step - loss: 0.8472 - accuracy: 0.5333 - val_loss: 1.3142 - val_accuracy: 0.5000\n",
            "Epoch 67/100\n",
            "1/1 [==============================] - 0s 47ms/step - loss: 0.8451 - accuracy: 0.5333 - val_loss: 1.3133 - val_accuracy: 0.5000\n",
            "Epoch 68/100\n",
            "1/1 [==============================] - 0s 42ms/step - loss: 0.8432 - accuracy: 0.5333 - val_loss: 1.3124 - val_accuracy: 0.5000\n",
            "Epoch 69/100\n",
            "1/1 [==============================] - 0s 55ms/step - loss: 0.8412 - accuracy: 0.5333 - val_loss: 1.3116 - val_accuracy: 0.7500\n",
            "Epoch 70/100\n",
            "1/1 [==============================] - 0s 43ms/step - loss: 0.8393 - accuracy: 0.5333 - val_loss: 1.3108 - val_accuracy: 0.7500\n",
            "Epoch 71/100\n",
            "1/1 [==============================] - 0s 44ms/step - loss: 0.8373 - accuracy: 0.5333 - val_loss: 1.3101 - val_accuracy: 0.7500\n",
            "Epoch 72/100\n",
            "1/1 [==============================] - 0s 42ms/step - loss: 0.8354 - accuracy: 0.5333 - val_loss: 1.3093 - val_accuracy: 0.7500\n",
            "Epoch 73/100\n",
            "1/1 [==============================] - 0s 39ms/step - loss: 0.8335 - accuracy: 0.5333 - val_loss: 1.3086 - val_accuracy: 0.7500\n",
            "Epoch 74/100\n",
            "1/1 [==============================] - 0s 47ms/step - loss: 0.8315 - accuracy: 0.5333 - val_loss: 1.3078 - val_accuracy: 0.7500\n",
            "Epoch 75/100\n",
            "1/1 [==============================] - 0s 39ms/step - loss: 0.8296 - accuracy: 0.5333 - val_loss: 1.3069 - val_accuracy: 0.7500\n",
            "Epoch 76/100\n",
            "1/1 [==============================] - 0s 42ms/step - loss: 0.8276 - accuracy: 0.5333 - val_loss: 1.3061 - val_accuracy: 0.7500\n",
            "Epoch 77/100\n",
            "1/1 [==============================] - 0s 45ms/step - loss: 0.8257 - accuracy: 0.5333 - val_loss: 1.3053 - val_accuracy: 0.7500\n",
            "Epoch 78/100\n",
            "1/1 [==============================] - 0s 41ms/step - loss: 0.8238 - accuracy: 0.5333 - val_loss: 1.3045 - val_accuracy: 0.7500\n",
            "Epoch 79/100\n",
            "1/1 [==============================] - 0s 39ms/step - loss: 0.8219 - accuracy: 0.5333 - val_loss: 1.3037 - val_accuracy: 0.7500\n",
            "Epoch 80/100\n",
            "1/1 [==============================] - 0s 42ms/step - loss: 0.8200 - accuracy: 0.5333 - val_loss: 1.3030 - val_accuracy: 0.7500\n",
            "Epoch 81/100\n",
            "1/1 [==============================] - 0s 41ms/step - loss: 0.8181 - accuracy: 0.5333 - val_loss: 1.3022 - val_accuracy: 0.7500\n",
            "Epoch 82/100\n",
            "1/1 [==============================] - 0s 41ms/step - loss: 0.8162 - accuracy: 0.5333 - val_loss: 1.3014 - val_accuracy: 0.7500\n",
            "Epoch 83/100\n",
            "1/1 [==============================] - 0s 71ms/step - loss: 0.8143 - accuracy: 0.5333 - val_loss: 1.3005 - val_accuracy: 0.7500\n",
            "Epoch 84/100\n",
            "1/1 [==============================] - 0s 156ms/step - loss: 0.8125 - accuracy: 0.5333 - val_loss: 1.2996 - val_accuracy: 0.7500\n",
            "Epoch 85/100\n",
            "1/1 [==============================] - 0s 90ms/step - loss: 0.8106 - accuracy: 0.5333 - val_loss: 1.2987 - val_accuracy: 0.7500\n",
            "Epoch 86/100\n",
            "1/1 [==============================] - 0s 136ms/step - loss: 0.8088 - accuracy: 0.5333 - val_loss: 1.2977 - val_accuracy: 0.7500\n",
            "Epoch 87/100\n",
            "1/1 [==============================] - 0s 111ms/step - loss: 0.8069 - accuracy: 0.5333 - val_loss: 1.2968 - val_accuracy: 0.7500\n",
            "Epoch 88/100\n",
            "1/1 [==============================] - 0s 91ms/step - loss: 0.8051 - accuracy: 0.5333 - val_loss: 1.2958 - val_accuracy: 0.7500\n",
            "Epoch 89/100\n",
            "1/1 [==============================] - 0s 139ms/step - loss: 0.8033 - accuracy: 0.5333 - val_loss: 1.2947 - val_accuracy: 0.7500\n",
            "Epoch 90/100\n",
            "1/1 [==============================] - 0s 109ms/step - loss: 0.8014 - accuracy: 0.5333 - val_loss: 1.2937 - val_accuracy: 0.7500\n",
            "Epoch 91/100\n",
            "1/1 [==============================] - 0s 102ms/step - loss: 0.7996 - accuracy: 0.5333 - val_loss: 1.2930 - val_accuracy: 0.7500\n",
            "Epoch 92/100\n",
            "1/1 [==============================] - 0s 122ms/step - loss: 0.7977 - accuracy: 0.5333 - val_loss: 1.2924 - val_accuracy: 0.7500\n",
            "Epoch 93/100\n",
            "1/1 [==============================] - 0s 144ms/step - loss: 0.7959 - accuracy: 0.5333 - val_loss: 1.2921 - val_accuracy: 0.7500\n",
            "Epoch 94/100\n",
            "1/1 [==============================] - 0s 141ms/step - loss: 0.7940 - accuracy: 0.5333 - val_loss: 1.2921 - val_accuracy: 0.7500\n",
            "Epoch 95/100\n",
            "1/1 [==============================] - 0s 70ms/step - loss: 0.7921 - accuracy: 0.5333 - val_loss: 1.2922 - val_accuracy: 0.7500\n",
            "Epoch 96/100\n",
            "1/1 [==============================] - 0s 80ms/step - loss: 0.7902 - accuracy: 0.5333 - val_loss: 1.2925 - val_accuracy: 0.7500\n",
            "Epoch 97/100\n",
            "1/1 [==============================] - 0s 69ms/step - loss: 0.7883 - accuracy: 0.5333 - val_loss: 1.2926 - val_accuracy: 0.7500\n",
            "Epoch 98/100\n",
            "1/1 [==============================] - 0s 54ms/step - loss: 0.7865 - accuracy: 0.6000 - val_loss: 1.2926 - val_accuracy: 0.7500\n",
            "Epoch 99/100\n",
            "1/1 [==============================] - 0s 66ms/step - loss: 0.7846 - accuracy: 0.6000 - val_loss: 1.2924 - val_accuracy: 0.7500\n",
            "Epoch 100/100\n",
            "1/1 [==============================] - 0s 87ms/step - loss: 0.7827 - accuracy: 0.6000 - val_loss: 1.2919 - val_accuracy: 0.7500\n"
          ]
        }
      ]
    },
    {
      "cell_type": "code",
      "source": [],
      "metadata": {
        "id": "SDmU0yEny3v6"
      },
      "execution_count": null,
      "outputs": []
    }
  ]
}